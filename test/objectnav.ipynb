{
 "cells": [
  {
   "cell_type": "code",
   "execution_count": 29,
   "metadata": {},
   "outputs": [
    {
     "name": "stdout",
     "output_type": "stream",
     "text": [
      "The autoreload extension is already loaded. To reload it, use:\n",
      "  %reload_ext autoreload\n"
     ]
    }
   ],
   "source": [
    "%load_ext autoreload\n",
    "%autoreload 2\n",
    "# testing habitat lab setup\n",
    "import sys\n",
    "import math\n",
    "import io\n",
    "from typing import Dict, Any\n",
    "import numpy as np\n",
    "import quaternion\n",
    "from scipy.spatial.transform import Rotation\n",
    "from habitat.core.utils import try_cv2_import\n",
    "from habitat.utils.visualizations import maps\n",
    "from torchlightning_utils import cli\n",
    "from habitat_simulation.agents import ShortestPathFollowerAgent\n",
    "from habitat_simulation.collector import DatasetCollector\n",
    "from habitat_simulation.envs import SimpleRLEnv\n",
    "import matplotlib.pyplot as plt\n",
    "from PIL import Image\n",
    "\n",
    "def display_sample(rgb_obs, semantic_obs=np.array([]), depth_obs=np.array([])):\n",
    "    from habitat_sim.utils.common import d3_40_colors_rgb\n",
    "\n",
    "    arr = []\n",
    "    titles = []\n",
    "    if semantic_obs.size != 0:\n",
    "        semantic_img = Image.new(\"P\", (semantic_obs.shape[1], semantic_obs.shape[0]))\n",
    "        semantic_img.putpalette(d3_40_colors_rgb.flatten())\n",
    "        semantic_img.putdata((semantic_obs.flatten() % 40).astype(np.uint8))\n",
    "        semantic_img = semantic_img.convert(\"RGBA\")\n",
    "        arr.append(semantic_img)\n",
    "        titles.append(\"semantic\")\n",
    "\n",
    "    plt.figure(figsize=(12, 8))\n",
    "    for i, data in enumerate(arr):\n",
    "        ax = plt.subplot(1, 1, i + 1)\n",
    "        ax.axis(\"off\")\n",
    "        ax.set_title(titles[i])\n",
    "        plt.imshow(data)\n",
    "    plt.show(block=False)"
   ]
  },
  {
   "cell_type": "code",
   "execution_count": 30,
   "metadata": {},
   "outputs": [
    {
     "name": "stderr",
     "output_type": "stream",
     "text": [
      "2022-11-26 02:41:24,445 Initializing dataset ObjectNav-v1\n"
     ]
    },
    {
     "name": "stdout",
     "output_type": "stream",
     "text": [
      "The autoreload extension is already loaded. To reload it, use:\n",
      "  %reload_ext autoreload\n"
     ]
    },
    {
     "name": "stderr",
     "output_type": "stream",
     "text": [
      "2022-11-26 02:41:25,061 initializing sim Sim-v0\n",
      "2022-11-26 02:41:37,032 Initializing task ObjectNav-v1\n",
      "2022-11-26 02:41:37,034 initializing sim Sim-v0\n"
     ]
    }
   ],
   "source": [
    "%load_ext autoreload\n",
    "%autoreload 2\n",
    "import habitat\n",
    "config_path = \"/home/azureuser/AutonomousSystemsResearch/habitat-simulation/configs/collect.yaml\"\n",
    "with open(config_path, mode=\"r\") as f:\n",
    "    from omegaconf import OmegaConf\n",
    "    config = OmegaConf.create(f.read())\n",
    "    config = OmegaConf.to_container(config, resolve=True)\n",
    "\n",
    "offline_dataset_config, online_env_config = config[\"offline_dataset\"], config[\"online_env\"]\n",
    "\n",
    "\n",
    "env_config = habitat.get_config(config_paths=online_env_config[\"env_config_path\"])    \n",
    "\n",
    "with habitat.config.read_write(env_config):\n",
    "    env_config.habitat.dataset.split = online_env_config[\"env_split\"]\n",
    "    env_config.habitat.dataset.data_path = online_env_config[\"env_data_path\"]\n",
    "    env_config.habitat.dataset.scenes_dir = online_env_config[\"env_scene_dir\"]\n",
    "    env_config.habitat.simulator.scene_dataset = online_env_config[\n",
    "        \"env_scene_dataset_config\"\n",
    "    ]\n",
    "from habitat.sims import make_sim\n",
    "env = habitat.Env(config=env_config)\n",
    "env.current_episode.scene_dataset_config = online_env_config[\n",
    "        \"env_scene_dataset_config\"\n",
    "    ]\n",
    "\n",
    "env._config.defrost()\n",
    "env._config.simulator.scene_dataset = (\n",
    "                env.current_episode.scene_dataset_config\n",
    "            )\n",
    "env._config.freeze()\n",
    "env._sim = make_sim(\n",
    "           id_sim=env._config.simulator.type, config=env._config.simulator)"
   ]
  },
  {
   "cell_type": "code",
   "execution_count": 31,
   "metadata": {},
   "outputs": [
    {
     "data": {
      "text/plain": [
       "<matplotlib.image.AxesImage at 0x7f428c383340>"
      ]
     },
     "execution_count": 31,
     "metadata": {},
     "output_type": "execute_result"
    },
    {
     "data": {
      "image/png": "[encoded data removed]",
      "text/plain": [
       "<Figure size 640x480 with 1 Axes>"
      ]
     },
     "metadata": {},
     "output_type": "display_data"
    }
   ],
   "source": [
    "total_frames = 0\n",
    "max_frames = 5\n",
    "observations = env.reset() #adding reset does not hurt semantics\n",
    "plt.imshow(observations[\"semantic\"][:,:,0])\n",
    "# while total_frames < max_frames:\n",
    "#     action =  2\n",
    "#     observations = env._sim.step(action)\n",
    "# # \n",
    "#     break\n",
    "#     total_frames += 1"
   ]
  },
  {
   "cell_type": "code",
   "execution_count": 20,
   "metadata": {},
   "outputs": [
    {
     "data": {
      "image/png": "[encoded data removed]",
      "text/plain": [
       "<Figure size 640x480 with 1 Axes>"
      ]
     },
     "metadata": {},
     "output_type": "display_data"
    }
   ],
   "source": [
    "for episode in range(20):\n",
    "    while not env.episode_over:\n",
    "        action = \"move_forward\"\n",
    "        next_observations = env.step(action)\n",
    "        plt.imshow(next_observations[\"semantic\"][:,:,0])\n",
    "        break\n",
    "env.close()"
   ]
  }
 ],
 "metadata": {
  "kernelspec": {
   "display_name": "Python 3.8.13 ('habitat')",
   "language": "python",
   "name": "python3"
  },
  "language_info": {
   "codemirror_mode": {
    "name": "ipython",
    "version": 3
   },
   "file_extension": ".py",
   "mimetype": "text/x-python",
   "name": "python",
   "nbconvert_exporter": "python",
   "pygments_lexer": "ipython3",
   "version": "3.8.13"
  },
  "orig_nbformat": 4,
  "vscode": {
   "interpreter": {
    "hash": "cbae9d0b84959119de7b4f7e414ec47420c94687cd5fb0eaaf8941084ecf28af"
   }
  }
 },
 "nbformat": 4,
 "nbformat_minor": 2
}
