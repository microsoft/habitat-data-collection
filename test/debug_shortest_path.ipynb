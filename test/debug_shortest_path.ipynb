{
 "cells": [
  {
   "cell_type": "code",
   "execution_count": 6,
   "metadata": {},
   "outputs": [],
   "source": [
    "%load_ext autoreload\n",
    "%autoreload 2\n",
    "# load library\n",
    "import sys\n",
    "import math\n",
    "import io\n",
    "from typing import Dict, Any\n",
    "import numpy as np\n",
    "import quaternion\n",
    "from scipy.spatial.transform import Rotation\n",
    "from habitat.core.utils import try_cv2_import\n",
    "from habitat.utils.visualizations import maps\n",
    "from torchlightning_utils import cli\n",
    "import matplotlib.pyplot as plt\n",
    "from PIL import Image\n",
    "import habitat_sim\n",
    "\n",
    "def make_simple_cfg(scene_id, seed=None):\n",
    "    # simulator backend\n",
    "    sim_cfg = habitat_sim.SimulatorConfiguration()\n",
    "    if seed is not None:\n",
    "        sim_cfg.random_seed = seed\n",
    "    sim_cfg.scene_id = scene_id \n",
    "\n",
    "    # agent\n",
    "    agent_cfg = habitat_sim.agent.AgentConfiguration()\n",
    "\n",
    "    return habitat_sim.Configuration(sim_cfg, [agent_cfg])"
   ]
  },
  {
   "cell_type": "code",
   "execution_count": 7,
   "metadata": {},
   "outputs": [
    {
     "name": "stdout",
     "output_type": "stream",
     "text": [
      "[array([-1.3119271,  2.8644238,  0.7133827], dtype=float32), array([-1.4242649 ,  2.8644238 ,  0.55743647], dtype=float32), array([-2.424265  ,  2.8644238 , -0.34256363], dtype=float32), array([-2.5242648 ,  2.8644238 , -0.44256353], dtype=float32), array([-3.1242652,  2.8644238, -1.4925637], dtype=float32), array([-3.174265 ,  2.8644238, -1.7925639], dtype=float32), array([-3.224265 ,  2.8644238, -5.692564 ], dtype=float32), array([-3.174265 ,  2.8644238, -6.042564 ], dtype=float32), array([-2.824265 ,  2.8644238, -6.042564 ], dtype=float32), array([-2.724265 ,  2.6644237, -5.692564 ], dtype=float32), array([-2.724265  ,  0.46442366, -2.0925636 ], dtype=float32), array([-2.7742648 ,  0.06442362, -1.6925635 ], dtype=float32), array([-3.0242648 ,  0.06442362, -1.6425638 ], dtype=float32), array([-3.174265  ,  0.06442362, -2.292564  ], dtype=float32), array([-3.4381979 ,  0.06442362, -5.416109  ], dtype=float32)]\n",
      "17.055267333984375\n",
      "True\n",
      "True\n"
     ]
    }
   ],
   "source": [
    "# habitat sim\n",
    "\n",
    "scene_id = \"/datadrive/azure_storage/pactdata/habitat-data/habitat-dataset/hm3d/train/00606-W16Bm4ysK8v/W16Bm4ysK8v.basis.glb\"\n",
    "try:  # Needed to handle out of order cell run in Colab\n",
    "    sim.close()\n",
    "except NameError:\n",
    "    pass\n",
    "sim_cfg = make_simple_cfg(scene_id)\n",
    "sim = habitat_sim.Simulator(sim_cfg)\n",
    "path = habitat_sim.ShortestPath()\n",
    "start = [-1.311927080154419, 2.8644237518310547, 0.7133827209472656]\n",
    "end = [-3.4381978511810303, 0.06442362070083618, -5.416109085083008]\n",
    "path.requested_start = start \n",
    "path.requested_end = end \n",
    "found_path = sim.pathfinder.find_path(path)\n",
    "geodesic_distance = path.geodesic_distance\n",
    "print(path.points)\n",
    "print(geodesic_distance)\n",
    "print(sim.pathfinder.is_navigable(start))\n",
    "print(sim.pathfinder.is_navigable(end))"
   ]
  },
  {
   "cell_type": "code",
   "execution_count": 8,
   "metadata": {},
   "outputs": [],
   "source": [
    "from habitat import Agent\n",
    "from typing import Union\n",
    "from habitat.tasks.nav.shortest_path_follower import ShortestPathFollower\n",
    "class ShortestPathFollowerAgent(Agent):\n",
    "    def __init__(self, sim, goal_radius: float) -> None:\n",
    "        super().__init__()\n",
    "        self._agent = ShortestPathFollower(sim, goal_radius, False)\n",
    "\n",
    "    def reset(self) -> None:\n",
    "        pass\n",
    "\n",
    "    def act(self, obs) -> dict:\n",
    "        # for shortest path follower, the observation is agent's current position\n",
    "        action = self._agent.get_next_action(obs)\n",
    "        return {\"action\": action}\n",
    "from habitat import Env\n",
    "\n",
    "class SimpleEnv(Env):\n",
    "    def get_reward_range(self):\n",
    "        return [-1, 1]\n",
    "\n",
    "    def get_reward(self, observations):\n",
    "        return 0"
   ]
  },
  {
   "attachments": {},
   "cell_type": "markdown",
   "metadata": {},
   "source": [
    "log for abnormal\n",
    "{'episode_id': '6', 'scene_id': '/datadrive/azure_storage/pactdata/habitat-data/habitat-dataset/hm3d/train/00606-W16Bm4ysK8v/W16Bm4ysK8v.basis.glb', 'scene_dataset_config': 'hm3d/hm3d_annotated_basis.scene_dataset_config.json', 'additional_obj_config_paths': [], 'start_position': [-1.311927080154419, 2.8644237518310547, 0.7133827209472656], 'start_rotation': [-0.0, -0.3144025504589081, -0.0, -0.9492897391319275], 'info': {'geodesic_distance': 17.055267333984375}, 'goals': [NavigationGoal(position=[-3.4381978511810303, 0.06442362070083618, -5.416109085083008], radius=0.2)], 'start_room': None, 'shortest_paths': None}"
   ]
  },
  {
   "cell_type": "code",
   "execution_count": 13,
   "metadata": {},
   "outputs": [
    {
     "name": "stderr",
     "output_type": "stream",
     "text": [
      "2023-01-24 20:10:33,650 Initializing dataset PointNav-v1\n",
      "2023-01-24 20:10:33,659 initializing sim Sim-v0\n",
      "2023-01-24 20:10:35,859 Initializing task Nav-v0\n"
     ]
    },
    {
     "name": "stdout",
     "output_type": "stream",
     "text": [
      "Environment creation successful\n"
     ]
    },
    {
     "name": "stderr",
     "output_type": "stream",
     "text": [
      "Episodes:  10%|█         | 1/10 [00:09<01:27,  9.68s/it]"
     ]
    },
    {
     "name": "stdout",
     "output_type": "stream",
     "text": [
      "0 takes steps 142\n"
     ]
    },
    {
     "name": "stderr",
     "output_type": "stream",
     "text": [
      "Episodes:  20%|██        | 2/10 [00:18<01:11,  8.99s/it]"
     ]
    },
    {
     "name": "stdout",
     "output_type": "stream",
     "text": [
      "1 takes steps 134\n"
     ]
    },
    {
     "name": "stderr",
     "output_type": "stream",
     "text": [
      "Episodes:  30%|███       | 3/10 [00:26<01:01,  8.80s/it]"
     ]
    },
    {
     "name": "stdout",
     "output_type": "stream",
     "text": [
      "2 takes steps 123\n"
     ]
    },
    {
     "name": "stderr",
     "output_type": "stream",
     "text": [
      "Episodes:  40%|████      | 4/10 [00:31<00:43,  7.27s/it]"
     ]
    },
    {
     "name": "stdout",
     "output_type": "stream",
     "text": [
      "3 takes steps 44\n"
     ]
    },
    {
     "name": "stderr",
     "output_type": "stream",
     "text": [
      "Episodes:  50%|█████     | 5/10 [00:38<00:35,  7.12s/it]"
     ]
    },
    {
     "name": "stdout",
     "output_type": "stream",
     "text": [
      "4 takes steps 92\n"
     ]
    },
    {
     "name": "stderr",
     "output_type": "stream",
     "text": [
      "Episodes:  60%|██████    | 6/10 [00:44<00:26,  6.70s/it]"
     ]
    },
    {
     "name": "stdout",
     "output_type": "stream",
     "text": [
      "5 takes steps 65\n"
     ]
    },
    {
     "name": "stderr",
     "output_type": "stream",
     "text": [
      "Episodes:  70%|███████   | 7/10 [00:53<00:22,  7.46s/it]"
     ]
    },
    {
     "name": "stdout",
     "output_type": "stream",
     "text": [
      "6 takes steps 123\n"
     ]
    },
    {
     "name": "stderr",
     "output_type": "stream",
     "text": [
      "Episodes:  80%|████████  | 8/10 [01:03<00:16,  8.14s/it]"
     ]
    },
    {
     "name": "stdout",
     "output_type": "stream",
     "text": [
      "7 takes steps 134\n"
     ]
    },
    {
     "name": "stderr",
     "output_type": "stream",
     "text": [
      "Episodes:  90%|█████████ | 9/10 [01:11<00:08,  8.24s/it]"
     ]
    },
    {
     "name": "stdout",
     "output_type": "stream",
     "text": [
      "8 takes steps 114\n"
     ]
    },
    {
     "name": "stderr",
     "output_type": "stream",
     "text": [
      "Episodes: 100%|██████████| 10/10 [01:20<00:00,  8.04s/it]"
     ]
    },
    {
     "name": "stdout",
     "output_type": "stream",
     "text": [
      "9 takes steps 120\n"
     ]
    },
    {
     "name": "stderr",
     "output_type": "stream",
     "text": [
      "\n"
     ]
    }
   ],
   "source": [
    "# reproduce results of habitat lab\n",
    "from tqdm import tqdm\n",
    "import habitat\n",
    "env_config = habitat.get_config(config_paths=\"../configs/pointnav_config/pointnav_hm3d.yaml\")\n",
    "with habitat.config.read_write(env_config):\n",
    "    env_config.habitat.dataset.split = \"train\"\n",
    "    env_config.habitat.dataset.data_path = \"/datadrive/azure_storage/pactdata/habitat-data/habitat-dataset/hm3d/debug/debug_shortest/train/train.json.gz\"\n",
    "    env_config.habitat.dataset.scenes_dir = \"/datadrive/azure_storage/pactdata/habitat-data/habitat-dataset\"\n",
    "with SimpleEnv(config=env_config) as env:\n",
    "    # override episodes iterator in env to skip episodes in dataset\n",
    "    # simple agent from native habitat\n",
    "    goal_radius = env.episodes[0].goals[0].radius\n",
    "    if goal_radius is None:\n",
    "        goal_radius = env_config.habitat.simulator.forward_step_size\n",
    "    # agent = PACTPointNavAgent(\n",
    "    #     raw_action_space=env.habitat_env.action_space, agent_config=agent_config\n",
    "    # )\n",
    "    agent = ShortestPathFollowerAgent(env.sim, goal_radius)\n",
    "    print(\"Environment creation successful\")\n",
    "\n",
    "    pbar = tqdm(range(0, len(env.episodes)), desc=\"Episodes\") \n",
    "    for episode in pbar:\n",
    "        observations = env.reset()\n",
    "        step = 0\n",
    "        while not env.episode_over:\n",
    "            # action = agent.act(observations)\n",
    "            action = agent.act(env.current_episode.goals[0].position)\n",
    "            # print(\"shortest path action: \", action)\n",
    "            if action is None:\n",
    "                break\n",
    "\n",
    "            # next_observations, reward, done, info = env.step(action)\n",
    "            \n",
    "            next_observations = env.step(action)\n",
    "            info = env.get_metrics()\n",
    "            observations = next_observations\n",
    "\n",
    "            step += 1\n",
    "        print(f\"{episode} takes steps {step}\")"
   ]
  }
 ],
 "metadata": {
  "kernelspec": {
   "display_name": "Python 3.8.13 ('habitat')",
   "language": "python",
   "name": "python3"
  },
  "language_info": {
   "codemirror_mode": {
    "name": "ipython",
    "version": 3
   },
   "file_extension": ".py",
   "mimetype": "text/x-python",
   "name": "python",
   "nbconvert_exporter": "python",
   "pygments_lexer": "ipython3",
   "version": "3.8.13"
  },
  "orig_nbformat": 4,
  "vscode": {
   "interpreter": {
    "hash": "cbae9d0b84959119de7b4f7e414ec47420c94687cd5fb0eaaf8941084ecf28af"
   }
  }
 },
 "nbformat": 4,
 "nbformat_minor": 2
}
